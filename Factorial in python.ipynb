{
  "nbformat": 4,
  "nbformat_minor": 0,
  "metadata": {
    "colab": {
      "provenance": [],
      "authorship_tag": "ABX9TyMqKW95hp4YcnsClN9o2Woe",
      "include_colab_link": true
    },
    "kernelspec": {
      "name": "python3",
      "display_name": "Python 3"
    },
    "language_info": {
      "name": "python"
    }
  },
  "cells": [
    {
      "cell_type": "markdown",
      "metadata": {
        "id": "view-in-github",
        "colab_type": "text"
      },
      "source": [
        "<a href=\"https://colab.research.google.com/github/Shrey354/Ecommerce-recom/blob/main/Factorial%20in%20python.ipynb\" target=\"_parent\"><img src=\"https://colab.research.google.com/assets/colab-badge.svg\" alt=\"Open In Colab\"/></a>"
      ]
    },
    {
      "cell_type": "code",
      "execution_count": 2,
      "metadata": {
        "id": "bCmwL9cjk-3V"
      },
      "outputs": [],
      "source": [
        "def factorial(num):\n",
        "\n",
        "  factorial = 1\n",
        "  if num == 0:\n",
        "    return factorial\n",
        "\n",
        "  else:\n",
        "    for i in range(1, num+1):\n",
        "      factorial = factorial * i\n",
        "    return factorial"
      ]
    },
    {
      "cell_type": "code",
      "source": [
        "print(factorial(4))"
      ],
      "metadata": {
        "colab": {
          "base_uri": "https://localhost:8080/"
        },
        "id": "dNOxECgYYnIn",
        "outputId": "e37b6fe5-ad7c-4490-a5fa-8744729a1414"
      },
      "execution_count": 5,
      "outputs": [
        {
          "output_type": "stream",
          "name": "stdout",
          "text": [
            "24\n"
          ]
        }
      ]
    }
  ]
}